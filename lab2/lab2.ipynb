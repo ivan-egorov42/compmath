{
 "cells": [
  {
   "cell_type": "markdown",
   "metadata": {},
   "source": [
    "## Лабораторная работа №2\n",
    "### Решение СЛАУ прямым и итерацинным методом\n",
    "#### Задание II.10.5(пункт у):\n",
    "Решить методами Гаусса и Зейделя, найти λmin, λmax, определить число обусловленности матрицы μ = ||A||·||A^{-1}||. Сделать печать невязок обоих методов.\n",
    "\n",
    "Результаты:\n",
    "\n",
    "--------------------------------------------------------------------------------------\n",
    "\n",
    "min|λ(A)|, max|λ(A)| =  0.7357016342479968 1.519941391528549\n",
    "\n",
    "μ = ||A||*||A^(-1)|| =  1.617256887091802\n",
    "\n",
    "--------------------------------------------------------------------------------------\n",
    "\n",
    "Roots of LU method:\n",
    "[0.75537042 0.23879963 0.17890325 0.15086988 0.13170938 0.1170332\n",
    " 0.10527117 0.09560544 0.08752166 0.08066593 0.074783   0.06968322]\n",
    " \n",
    "Solution Discrepancy |A * x - f|: 6.655553224256149e-17\n",
    "\n",
    "--------------------------------------------------------------------------------------\n",
    "\n",
    "Roots of relaxation method\n",
    "[0.75537042 0.23879963 0.17890325 0.15086988 0.13170938 0.1170332\n",
    " 0.10527117 0.09560544 0.08752166 0.08066593 0.074783   0.06968322]\n",
    "\n",
    "Solution Discrepancy |A * x - f|: 3.626858354025536e-16\n",
    "\n",
    "Number of iterations: 41"
   ]
  },
  {
   "cell_type": "code",
   "execution_count": 141,
   "metadata": {},
   "outputs": [],
   "source": [
    "import numpy as np\n",
    "import random"
   ]
  },
  {
   "cell_type": "code",
   "execution_count": 143,
   "metadata": {},
   "outputs": [],
   "source": [
    "# Creating matrix\n",
    "n = 12                     # size of matrix nxn\n",
    "matrix = np.zeros ((n, n)) # initialization \n",
    "\n",
    "# Filling matrix\n",
    "for i in range(n):\n",
    "    for j in range(n):\n",
    "        if i == j:\n",
    "            matrix[i][j] = 1\n",
    "        else:\n",
    "            matrix[i][j] = 1 / ((i + 1)*(i + 1) + (j+1))\n",
    "\n",
    "f = np.array ([1 / (i + 1) for i in range(n)]) # right side of the system of equations\n",
    "x = np.zeros (n) # init solution"
   ]
  },
  {
   "cell_type": "code",
   "execution_count": 142,
   "metadata": {},
   "outputs": [
    {
     "name": "stdout",
     "output_type": "stream",
     "text": [
      "Matrix[12][12]\n",
      "/ 1.00000000  0.33333333  0.25000000  0.20000000  0.16666667  0.14285714  0.12500000  0.11111111  0.10000000  0.09090909  0.08333333  0.07692308  \\\n",
      "| 0.20000000  1.00000000  0.14285714  0.12500000  0.11111111  0.10000000  0.09090909  0.08333333  0.07692308  0.07142857  0.06666667  0.06250000  |\n",
      "| 0.10000000  0.09090909  1.00000000  0.07692308  0.07142857  0.06666667  0.06250000  0.05882353  0.05555556  0.05263158  0.05000000  0.04761905  |\n",
      "| 0.05882353  0.05555556  0.05263158  1.00000000  0.04761905  0.04545455  0.04347826  0.04166667  0.04000000  0.03846154  0.03703704  0.03571429  |\n",
      "| 0.03846154  0.03703704  0.03571429  0.03448276  1.00000000  0.03225806  0.03125000  0.03030303  0.02941176  0.02857143  0.02777778  0.02702703  |\n",
      "| 0.02702703  0.02631579  0.02564103  0.02500000  0.02439024  1.00000000  0.02325581  0.02272727  0.02222222  0.02173913  0.02127660  0.02083333  |\n",
      "| 0.02000000  0.01960784  0.01923077  0.01886792  0.01851852  0.01818182  1.00000000  0.01754386  0.01724138  0.01694915  0.01666667  0.01639344  |\n",
      "| 0.01538462  0.01515152  0.01492537  0.01470588  0.01449275  0.01428571  0.01408451  1.00000000  0.01369863  0.01351351  0.01333333  0.01315789  |\n",
      "| 0.01219512  0.01204819  0.01190476  0.01176471  0.01162791  0.01149425  0.01136364  0.01123596  1.00000000  0.01098901  0.01086957  0.01075269  |\n",
      "| 0.00990099  0.00980392  0.00970874  0.00961538  0.00952381  0.00943396  0.00934579  0.00925926  0.00917431  1.00000000  0.00900901  0.00892857  |\n",
      "| 0.00819672  0.00813008  0.00806452  0.00800000  0.00793651  0.00787402  0.00781250  0.00775194  0.00769231  0.00763359  1.00000000  0.00751880  |\n",
      "\\ 0.00689655  0.00684932  0.00680272  0.00675676  0.00671141  0.00666667  0.00662252  0.00657895  0.00653595  0.00649351  0.00645161  1.00000000  /\n",
      "\n",
      "\n"
     ]
    }
   ],
   "source": [
    "# Printing matrix\n",
    "def printMatrix(M):\n",
    "    print(f\"Matrix[{M.shape[0]}][{M.shape[1]}]\")\n",
    "    rows = M.shape[0]\n",
    "    cols = M.shape[1]\n",
    "    for i in range(0, rows):\n",
    "        for j in range(0, cols):\n",
    "            start_symbol = \"\"\n",
    "            end_symbol   = \"\"\n",
    "\n",
    "            if j == 0:\n",
    "                if i == 0:\n",
    "                    start_symbol = \"/ \"\n",
    "                elif i == rows - 1:\n",
    "                    start_symbol = \"\\\\ \"\n",
    "                else:\n",
    "                    start_symbol = \"| \"\n",
    "            \n",
    "            if (j == cols - 1):\n",
    "                if i == 0:\n",
    "                    end_symbol = \"  \\\\\"\n",
    "                elif i == rows - 1:\n",
    "                    end_symbol = \"  /\"\n",
    "                else:\n",
    "                    end_symbol = \"  |\"\n",
    "\n",
    "            print(start_symbol + \"{:6.8f}\".format(M[i, j]), end=\"\")\n",
    "            print(end_symbol + (\"\\n\" if j == cols - 1 else \"  \"), end=\"\")\n",
    "\n",
    "    print(\"\\n\")\n",
    "\n",
    "printMatrix(matrix)"
   ]
  },
  {
   "cell_type": "code",
   "execution_count": 138,
   "metadata": {},
   "outputs": [],
   "source": [
    "# Checking if LU method is possible\n",
    "LU = True\n",
    "\n",
    "for i in range(1, n + 1):\n",
    "    minor = ((matrix[0:(i)].T)[0:(i)]).T    # expression for minor\n",
    "    if np.linalg.det(minor) == 0.0:         # if at least one minor is zero then LU isn't possible\n",
    "        LU = False\n",
    "        break"
   ]
  },
  {
   "cell_type": "code",
   "execution_count": 139,
   "metadata": {},
   "outputs": [
    {
     "name": "stdout",
     "output_type": "stream",
     "text": [
      "Roots of LU method:\n",
      "[0.75537042 0.23879963 0.17890325 0.15086988 0.13170938 0.1170332\n",
      " 0.10527117 0.09560544 0.08752166 0.08066593 0.074783   0.06968322]\n",
      "Solution Discrepancy |A * x - f|: 6.655553224256149e-17\n"
     ]
    }
   ],
   "source": [
    "# LU method\n",
    "\n",
    "if LU:  \n",
    "  L = np.zeros ((n, n))\n",
    "  U = np.zeros ((n ,n))\n",
    "\n",
    "  for i in range(n):\n",
    "      L[i][i] = 1\n",
    "\n",
    "  for i in range (n):\n",
    "      for j in range (n):\n",
    "          if i <= j:\n",
    "              U[i][j] = matrix[i][j] - np.sum ([L[i][k] * U[k][j] for k in range(i)])\n",
    "\n",
    "          else:\n",
    "              L[i][j] = (matrix[i][j] - np.sum ([L[i][k] * U[k][j] for k in range(j)])) / U[j][j]\n",
    "\n",
    "  y = np.zeros (n)\n",
    "\n",
    "  for i in range (n):\n",
    "      y[i] = (f[i] - np.sum ([y[k] * L[i][k] for k in range (i)]))\n",
    "\n",
    "  x[n - 1] = y[n - 1] / U[n - 1][n - 1]\n",
    "  for i in range (n - 2, -1, -1):\n",
    "      x[i] = (y[i] - np.sum ([x[k] * U[i][k] for k in range (i + 1, n)])) / U[i][i]\n",
    "\n",
    "  print (\"Roots of LU method:\")\n",
    "  print (x)\n",
    "  print (\"Solution Discrepancy |A * x - f|:\", np.linalg.norm (np.matmul (matrix, x) - f))\n",
    "\n",
    "else: print(\"LU is not possible\")"
   ]
  },
  {
   "cell_type": "code",
   "execution_count": 140,
   "metadata": {},
   "outputs": [
    {
     "name": "stdout",
     "output_type": "stream",
     "text": [
      "Roots of relaxation method\n",
      "[0.75537042 0.23879963 0.17890325 0.15086988 0.13170938 0.1170332\n",
      " 0.10527117 0.09560544 0.08752166 0.08066593 0.074783   0.06968322]\n",
      "Solution Discrepancy |A * x - f|: 3.626858354025536e-16\n",
      "Number of iterations: 41\n",
      "1.339791812393254\n"
     ]
    }
   ],
   "source": [
    "# Relaxation method\n",
    "\n",
    "w = random.uniform(1, 2)\n",
    "err = 1e-15                           \n",
    "N = 0                                 # number of iterations\n",
    "L = np.zeros ((n, n))\n",
    "D = np.zeros ((n, n))\n",
    "U = np.zeros ((n, n))\n",
    "\n",
    "for i in range (n):\n",
    "    for j in range (n):\n",
    "        if i < j:\n",
    "            U[i][j] = matrix[i][j]\n",
    "        if i == j:\n",
    "            D[i][j] = matrix[i][j]\n",
    "        if i > j:\n",
    "            L[i][j] = matrix[i][j]\n",
    "\n",
    "x_prev = np.random.random (n)          #initial approximation\n",
    "x = np.random.random (n)\n",
    "\n",
    "while np.linalg.norm (x - x_prev) > err:      # stop criteria\n",
    "    x_prev = x\n",
    "    x = - np.matmul (np.matmul (np.linalg.inv (D + w * L), (w - 1) * D + w * U), x_prev) + w * np.matmul (np.linalg.inv (D + w * L), f)\n",
    "    N += 1\n",
    "\n",
    "print (\"Roots of relaxation method\")\n",
    "print (x)\n",
    "print (\"Solution Discrepancy |A * x - f|:\", np.linalg.norm (np.matmul (matrix, x) - f))\n",
    "print (\"Number of iterations:\", N)\n",
    "print(w)"
   ]
  },
  {
   "cell_type": "code",
   "execution_count": 132,
   "metadata": {},
   "outputs": [
    {
     "name": "stdout",
     "output_type": "stream",
     "text": [
      "min|λ(A)|, max|λ(A)| =  0.7357016342479968 1.519941391528549\n",
      "μ = ||A||*||A^(-1)|| =  1.617256887091802\n"
     ]
    }
   ],
   "source": [
    "# λ_min and λ_max\n",
    "eig, _ = np.linalg.eig(matrix)\n",
    "print(\"min|λ(A)|, max|λ(A)| = \", eig.min(), eig.max())\n",
    "\n",
    "# μ = ||A||*||A^(-1)|| in third form\n",
    "eig, _ = np.linalg.eig(np.matmul(matrix.T, matrix))\n",
    "norm_m = np.sqrt(eig.max())\n",
    "print(\"μ = ||A||*||A^(-1)|| = \", norm_m)"
   ]
  }
 ],
 "metadata": {
  "kernelspec": {
   "display_name": "Python 3.8.10 64-bit",
   "language": "python",
   "name": "python3"
  },
  "language_info": {
   "codemirror_mode": {
    "name": "ipython",
    "version": 3
   },
   "file_extension": ".py",
   "mimetype": "text/x-python",
   "name": "python",
   "nbconvert_exporter": "python",
   "pygments_lexer": "ipython3",
   "version": "3.8.10"
  },
  "orig_nbformat": 4,
  "vscode": {
   "interpreter": {
    "hash": "916dbcbb3f70747c44a77c7bcd40155683ae19c65e1c03b4aa3499c5328201f1"
   }
  }
 },
 "nbformat": 4,
 "nbformat_minor": 2
}
